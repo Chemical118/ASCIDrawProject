{
 "cells": [
  {
   "cell_type": "code",
   "execution_count": 9,
   "metadata": {
    "collapsed": true,
    "pycharm": {
     "name": "#%%\n"
    }
   },
   "outputs": [],
   "source": [
    "a = input()"
   ]
  },
  {
   "cell_type": "code",
   "execution_count": 11,
   "outputs": [
    {
     "name": "stdout",
     "output_type": "stream",
     "text": [
      "\n",
      "\n",
      "분석 중..\n",
      "\n",
      "당신은..\n",
      " 짜장면 을 좋아하는 타입입니다\n"
     ]
    }
   ],
   "source": [
    "fav = input(\"\"\"적중률\n",
    "100% 심리 테스트를 시작합니다\n",
    "당신은 중국음식점에 갔습니다\n",
    "메뉴판에서 가장 먼저 보이는 것은?\"\"\")\n",
    "\n",
    "print(\"\"\"\n",
    "\n",
    "분석 중..\n",
    "\n",
    "당신은..\"\"\", fav, \"을 좋아하는 타입입니다\", sep='\\n')"
   ],
   "metadata": {
    "collapsed": false,
    "pycharm": {
     "name": "#%%\n"
    }
   }
  },
  {
   "cell_type": "code",
   "execution_count": null,
   "outputs": [],
   "source": [],
   "metadata": {
    "collapsed": false,
    "pycharm": {
     "name": "#%%\n"
    }
   }
  }
 ],
 "metadata": {
  "kernelspec": {
   "display_name": "Python 3",
   "language": "python",
   "name": "python3"
  },
  "language_info": {
   "codemirror_mode": {
    "name": "ipython",
    "version": 2
   },
   "file_extension": ".py",
   "mimetype": "text/x-python",
   "name": "python",
   "nbconvert_exporter": "python",
   "pygments_lexer": "ipython2",
   "version": "2.7.6"
  }
 },
 "nbformat": 4,
 "nbformat_minor": 0
}