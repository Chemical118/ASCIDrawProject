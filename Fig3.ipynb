{
 "cells": [
  {
   "cell_type": "code",
   "execution_count": null,
   "metadata": {
    "collapsed": false,
    "pycharm": {
     "name": "#%%\n"
    }
   },
   "outputs": [],
   "source": [
    "include(\"load_save.jl\")\n",
    "using XLSX, FASTX, DataFrames, AverageShiftedHistograms, Loess, PyPlot, Printf, JLD2"
   ]
  },
  {
   "cell_type": "code",
   "execution_count": null,
   "metadata": {
    "collapsed": false,
    "pycharm": {
     "name": "#%%\n"
    }
   },
   "outputs": [],
   "source": [
    "R, X, Y, L, F, Y, PY = load_big_dataset(\"avGFP\", val_mode=true);\n",
    "R1, X1, Y1, L1, MF1, SF1, Y1, PY1 = load_small_dataset(\"avGFPs\", 'B', val_mode=true);\n",
    "R2, X2, Y2, L2, MF2, SF2, Y2, PY2 = load_small_dataset(\"avGFPs\", 'C', val_mode=true);\n",
    "R3, X3, Y3, L3, MF3, SF3, Y3, PY3 = load_small_dataset(\"avGFPs\", 'F', val_mode=true);"
   ]
  },
  {
   "cell_type": "code",
   "execution_count": null,
   "metadata": {
    "collapsed": false,
    "pycharm": {
     "name": "#%%\n"
    }
   },
   "outputs": [],
   "source": [
    "M = load_dataset_model(\"avGFP\"); # brightness\n",
    "M1 = load_dataset_model(\"avGFPs\", 'B'); # emission\n",
    "M2 = load_dataset_model(\"avGFPs\", 'C'); # exciation\n",
    "M3 = load_dataset_model(\"avGFPs\", 'F'); # brightness"
   ]
  },
  {
   "cell_type": "code",
   "execution_count": null,
   "metadata": {
    "collapsed": false,
    "pycharm": {
     "name": "#%%\n"
    }
   },
   "outputs": [],
   "source": [
    "excel_data = DataFrame(XLSX.readtable(\"Save/avGFP.xlsx\", \"Sheet1\", infer_eltypes=true))\n",
    "ref_seq = [FASTA.sequence(String, record) for record in open(FASTA.Reader, \"Save/avGFP_ref.fasta\")][1]\n",
    "ref_seq = collect(ref_seq)\n",
    "\n",
    "seq_vector  = Vector{String}()\n",
    "for mut in excel_data[!, 2]\n",
    "    seq = deepcopy(ref_seq)\n",
    "    seq[[65, 72, 77, 203]] .= collect(mut)\n",
    "    push!(seq_vector, join(seq))\n",
    "end"
   ]
  },
  {
   "cell_type": "code",
   "execution_count": null,
   "metadata": {
    "collapsed": false,
    "pycharm": {
     "name": "#%%\n"
    }
   },
   "outputs": [],
   "source": [
    "data_vector = [[M, L, \"avGFP_b\"], [M1, L1, \"avGFPs_b\"], [M2, L2, \"avGFPs_c\"], [M3, L3, \"avGFPs_f\"]];\n",
    "for i in eachindex(data_vector)\n",
    "    push!(data_vector[i], parallel_predict(data_vector[i][1], data_vector[i][2], seq_vector))\n",
    "end"
   ]
  },
  {
   "cell_type": "code",
   "execution_count": null,
   "metadata": {
    "pycharm": {
     "name": "#%%\n"
    }
   },
   "outputs": [],
   "source": [
    "@load "
   ]
  },
  {
   "cell_type": "code",
   "execution_count": null,
   "metadata": {
    "collapsed": false,
    "pycharm": {
     "name": "#%%\n"
    }
   },
   "outputs": [],
   "source": [
    "ratio = 0.15\n",
    "for (ind, data) in enumerate(data_vector)\n",
    "    m, l, ti, ans = data\n",
    "    # ans = min_max_norm(ans)\n",
    "    \n",
    "    ans = ans[1:floor(Int, ratio*length(ans))]\n",
    "    xs = 1:length(ans)\n",
    "    ys = ans\n",
    "\n",
    "    model = loess(xs, ys; span=0.15)\n",
    "    us = range(extrema(xs)...; step=0.1)\n",
    "    vs = Loess.predict(model, us)\n",
    "\n",
    "    color = Vector{Float64}()\n",
    "    ke = AverageShiftedHistograms.Kernels.gaussian\n",
    "    kde = ash(xs, ys, nbin=150, kernelx=ke, kernely=ke)\n",
    "    for (tru, val) in zip(xs, ys) \n",
    "        push!(color, AverageShiftedHistograms.pdf(kde, tru, val))\n",
    "    end\n",
    "    sorted_idx = sortperm(color)\n",
    "\n",
    "    matplotlib.pyplot.rcParams[\"font.family\"] = \"Arial\"\n",
    "    fig, ax = subplots()\n",
    "    ax.get_xaxis().set_ticks([])\n",
    "    ax.yaxis.set_major_formatter(matplotlib.ticker.FormatStrFormatter(\"%.2f\"))\n",
    "    xticks(rotation=30)\n",
    "    scatter(xs[sorted_idx], ys[sorted_idx], c=color[sorted_idx], s=0.15)\n",
    "    plot(us, vs, linewidth=2, c=\"red\")\n",
    "    cbar = colorbar()\n",
    "    cbar.ax.ticklabel_format(useMathText=true, scilimits=(0, 0))\n",
    "    title(ti)\n",
    "\n",
    "    savefig(\"Fig/f3-$ind.tiff\", dpi=600, bbox_inches=\"tight\")\n",
    "    display(gcf())\n",
    "    close(\"all\")\n",
    "end"
   ]
  }
 ],
 "metadata": {
  "kernelspec": {
   "display_name": "Julia 1.8.2",
   "language": "julia",
   "name": "julia-1.8"
  },
  "language_info": {
   "file_extension": ".jl",
   "mimetype": "application/julia",
   "name": "julia",
   "version": "1.8.2"
  },
  "orig_nbformat": 4
 },
 "nbformat": 4,
 "nbformat_minor": 2
}
